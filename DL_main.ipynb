{
  "nbformat": 4,
  "nbformat_minor": 0,
  "metadata": {
    "colab": {
      "name": "Copy of FinalVersionAIM.ipynb",
      "provenance": [],
      "collapsed_sections": []
    },
    "kernelspec": {
      "name": "python3",
      "display_name": "Python 3"
    },
    "accelerator": "GPU"
  },
  "cells": [
    {
      "cell_type": "code",
      "metadata": {
        "id": "HjiMBhUCJ7kf",
        "colab_type": "code",
        "colab": {}
      },
      "source": [
        "import numpy as np\n",
        "from math import cos as cos\n",
        "from math import sin as sin\n",
        "from math import sqrt as sqrt\n"
      ],
      "execution_count": 0,
      "outputs": []
    },
    {
      "cell_type": "code",
      "metadata": {
        "id": "bxxZC8Y0OhPj",
        "colab_type": "code",
        "colab": {}
      },
      "source": [
        "import numpy as np \n",
        "import pandas as pd\n",
        "import h5py\n",
        "\n",
        "import matplotlib.pylab as plt\n",
        "from matplotlib import cm\n",
        "%matplotlib inline\n",
        "from sklearn.model_selection import train_test_split\n",
        "import torch\n",
        "from torch import nn\n",
        "import torch.nn.functional as F\n",
        "from torch.autograd import Variable\n",
        "import torch.utils.data as data_utils\n",
        "import csv\n",
        "import numpy as np \n",
        "import pandas as pd\n",
        "import h5py\n",
        "from matplotlib import cm\n",
        "get_ipython().run_line_magic('matplotlib', 'inline')\n",
        "from sklearn.model_selection import train_test_split\n",
        "from scipy import stats\n",
        "import tensorflow as tf\n",
        "import time\n",
        "import h5py\n",
        "import os\n",
        "import sys\n",
        "plt.style.use('ggplot')\n",
        "\n",
        "from matplotlib import image\n",
        "from matplotlib import pyplot\n",
        "import csv\n",
        "\n",
        "from sklearn import metrics\n",
        "from __future__ import print_function\n",
        "import argparse\n",
        "import torch\n",
        "import torch.nn as nn\n",
        "import torch.nn.functional as F\n",
        "import torch.optim as optim\n",
        "from torch.nn import Linear, ReLU, CrossEntropyLoss, Sequential, Conv2d, MaxPool2d, Module, Softmax, BatchNorm2d, Dropout\n",
        "from torch.optim import Adam, SGD\n",
        "from torch.autograd import Variable\n",
        "from sklearn.metrics import f1_score\n",
        "from dynamics import model_dynamics"
      ],
      "execution_count": 0,
      "outputs": []
    },
    {
      "cell_type": "code",
      "metadata": {
        "id": "lGMwygs6p8ho",
        "colab_type": "code",
        "outputId": "19383b42-e52a-4ec5-d77c-c5706bc96acd",
        "colab": {
          "base_uri": "https://localhost:8080/",
          "height": 34
        }
      },
      "source": [
        "import tensorflow as tf\n",
        "!pip install -U -q PyDrive\n",
        "import os\n",
        "from pydrive.auth import GoogleAuth\n",
        "from pydrive.drive import GoogleDrive\n",
        "from google.colab import auth\n",
        "from oauth2client.client import GoogleCredentials\n",
        "\n",
        "\n",
        "for f in file_list:\n",
        "  #upload dataset\n"
      ],
      "execution_count": 71,
      "outputs": [
        {
          "output_type": "stream",
          "text": [
            "Found GPU at: /device:GPU:0\n"
          ],
          "name": "stdout"
        }
      ]
    },
    {
      "cell_type": "code",
      "metadata": {
        "id": "5djjOd3XqbRx",
        "colab_type": "code",
        "colab": {}
      },
      "source": [
        "import scipy "
      ],
      "execution_count": 0,
      "outputs": []
    },
    {
      "cell_type": "code",
      "metadata": {
        "id": "J8igaAHrscNk",
        "colab_type": "code",
        "outputId": "0ef9429a-f94e-45c0-cfb4-6b05da453dd2",
        "colab": {
          "base_uri": "https://localhost:8080/",
          "height": 34
        }
      },
      "source": [
        "cd /root/data"
      ],
      "execution_count": 76,
      "outputs": [
        {
          "output_type": "stream",
          "text": [
            "/root/data\n"
          ],
          "name": "stdout"
        }
      ]
    },
    {
      "cell_type": "code",
      "metadata": {
        "id": "npe5si_PqmWx",
        "colab_type": "code",
        "colab": {}
      },
      "source": [
        "import scipy.io as sio\n",
        "file = \"outputset1.mat\"\n",
        "a = sio.loadmat(file)\n",
        "file = \"outputset2.mat\"\n",
        "b = sio.loadmat(file)\n",
        "file = \"outputset3.mat\"\n",
        "c = sio.loadmat(file)\n",
        "file = \"outputset4.mat\"\n",
        "d = sio.loadmat(file)\n",
        "file = \"outputset6.mat\"\n",
        "e = sio.loadmat(file)\n",
        "file = \"outputset7.mat\"\n",
        "f = sio.loadmat(file)\n",
        "file = \"outputset8.mat\"\n",
        "g = sio.loadmat(file)\n",
        "file = \"outputset9.mat\"\n",
        "h = sio.loadmat(file)\n",
        "file = \"outputset10.mat\"\n",
        "j = sio.loadmat(file)\n",
        "controlv = j['controls']\n",
        "statev = j['states']\n",
        "control=np.concatenate((a['controls'],b['controls'],c['controls'],d['controls'], e['controls'],f['controls'],g['controls'],h['controls'],j['controls']))\n",
        "state=np.concatenate((a['states'],b['states'],c['states'],d['states'],e['states'], f['states'],g['states'],h['states'],j['states']))"
      ],
      "execution_count": 0,
      "outputs": []
    },
    {
      "cell_type": "code",
      "metadata": {
        "id": "v0doiQb0quOo",
        "colab_type": "code",
        "colab": {}
      },
      "source": [
        "x=state[:,0:250,:]\n",
        "y=control[:,0:250,:]\n"
      ],
      "execution_count": 0,
      "outputs": []
    },
    {
      "cell_type": "code",
      "metadata": {
        "id": "vFkehxKgzuDZ",
        "colab_type": "code",
        "colab": {}
      },
      "source": [
        "import random"
      ],
      "execution_count": 0,
      "outputs": []
    },
    {
      "cell_type": "code",
      "metadata": {
        "id": "1rKTS0s4zwmD",
        "colab_type": "code",
        "colab": {}
      },
      "source": [
        "narr=np.array(range(0,4000,40))"
      ],
      "execution_count": 0,
      "outputs": []
    },
    {
      "cell_type": "code",
      "metadata": {
        "id": "DBhk3Me78nzI",
        "colab_type": "code",
        "outputId": "33c00c11-9b68-4d46-e2f4-0488ebec3ffa",
        "colab": {
          "base_uri": "https://localhost:8080/",
          "height": 185
        }
      },
      "source": [
        "narr"
      ],
      "execution_count": 81,
      "outputs": [
        {
          "output_type": "execute_result",
          "data": {
            "text/plain": [
              "array([   0,   40,   80,  120,  160,  200,  240,  280,  320,  360,  400,\n",
              "        440,  480,  520,  560,  600,  640,  680,  720,  760,  800,  840,\n",
              "        880,  920,  960, 1000, 1040, 1080, 1120, 1160, 1200, 1240, 1280,\n",
              "       1320, 1360, 1400, 1440, 1480, 1520, 1560, 1600, 1640, 1680, 1720,\n",
              "       1760, 1800, 1840, 1880, 1920, 1960, 2000, 2040, 2080, 2120, 2160,\n",
              "       2200, 2240, 2280, 2320, 2360, 2400, 2440, 2480, 2520, 2560, 2600,\n",
              "       2640, 2680, 2720, 2760, 2800, 2840, 2880, 2920, 2960, 3000, 3040,\n",
              "       3080, 3120, 3160, 3200, 3240, 3280, 3320, 3360, 3400, 3440, 3480,\n",
              "       3520, 3560, 3600, 3640, 3680, 3720, 3760, 3800, 3840, 3880, 3920,\n",
              "       3960])"
            ]
          },
          "metadata": {
            "tags": []
          },
          "execution_count": 81
        }
      ]
    },
    {
      "cell_type": "code",
      "metadata": {
        "id": "sCCr59mSzq_S",
        "colab_type": "code",
        "outputId": "4f02c3b5-42df-4a5d-df18-ee9fed164cfb",
        "colab": {
          "base_uri": "https://localhost:8080/",
          "height": 34
        }
      },
      "source": [
        "nsarr=np.array(state[narr,:,:])\n",
        "noarr=np.array(control[narr,:,:])\n",
        "nsarr.shape , noarr.shape"
      ],
      "execution_count": 82,
      "outputs": [
        {
          "output_type": "execute_result",
          "data": {
            "text/plain": [
              "((100, 401, 6), (100, 401, 2))"
            ]
          },
          "metadata": {
            "tags": []
          },
          "execution_count": 82
        }
      ]
    },
    {
      "cell_type": "code",
      "metadata": {
        "id": "3S34o08-0oT8",
        "colab_type": "code",
        "colab": {}
      },
      "source": [
        "x0=np.delete(x,narr,axis=0)\n",
        "y0=np.delete(y,narr,axis=0)"
      ],
      "execution_count": 0,
      "outputs": []
    },
    {
      "cell_type": "code",
      "metadata": {
        "id": "7PzdvTqs-8A4",
        "colab_type": "code",
        "outputId": "719b490a-4e28-4bac-a850-78d69a529296",
        "colab": {
          "base_uri": "https://localhost:8080/",
          "height": 34
        }
      },
      "source": [
        "x0.shape"
      ],
      "execution_count": 84,
      "outputs": [
        {
          "output_type": "execute_result",
          "data": {
            "text/plain": [
              "(4400, 250, 6)"
            ]
          },
          "metadata": {
            "tags": []
          },
          "execution_count": 84
        }
      ]
    },
    {
      "cell_type": "code",
      "metadata": {
        "id": "JmxjV-NczW6W",
        "colab_type": "code",
        "outputId": "a90e6024-74bf-4909-e53f-97eaa6b4fcbf",
        "colab": {
          "base_uri": "https://localhost:8080/",
          "height": 34
        }
      },
      "source": [
        "state.shape"
      ],
      "execution_count": 85,
      "outputs": [
        {
          "output_type": "execute_result",
          "data": {
            "text/plain": [
              "(4500, 401, 6)"
            ]
          },
          "metadata": {
            "tags": []
          },
          "execution_count": 85
        }
      ]
    },
    {
      "cell_type": "code",
      "metadata": {
        "id": "QB-LgCN5JGAa",
        "colab_type": "code",
        "outputId": "995cccfc-112b-4fe8-caa8-e9659c4b48a5",
        "colab": {
          "base_uri": "https://localhost:8080/",
          "height": 118
        }
      },
      "source": [
        "xv=statev[:,0:250,:]\n",
        "yv=controlv[:,0:250,:]\n",
        "x0=x0.reshape(-1, x0.shape[-1])\n",
        "y0=y0.reshape(-1, y0.shape[-1])\n",
        "xv=xv.reshape(-1, xv.shape[-1])\n",
        "yv=yv.reshape(-1, yv.shape[-1])\n",
        "from sklearn.model_selection import train_test_split\n",
        "\n",
        "X1, X2, y1, y2 = train_test_split(x0, y0, random_state=42,\n",
        "                                  train_size=(800000/(4400*250)))\n",
        "\n",
        "X2, X3, y2, y3 = train_test_split(X2, y2, random_state=42,\n",
        "                                  train_size=(100000/(4400*250-800000)))\n",
        "\n",
        "X3, X4, y3, y4 = train_test_split(X3, y3, random_state=42,\n",
        "                                  train_size=(100000/(4400*250-900000)))\n",
        "\n",
        "X_tr_torch = Variable(torch.from_numpy(X1))\n",
        "y_tr_torch = Variable(torch.from_numpy(y1))\n",
        "\n",
        "X_t_torch = Variable(torch.from_numpy(X2))\n",
        "y_t_torch = Variable(torch.from_numpy(y2))\n",
        "\n",
        "X_tt_torch = Variable(torch.from_numpy(X3))\n",
        "y_tt_torch = Variable(torch.from_numpy(y3))\n",
        "\n",
        "print(\"Training X size:\",X_tr_torch.data.shape)\n",
        "print(\"Training y size:\",y_tr_torch.data.shape)\n",
        "\n",
        "print(\"Testing X size:\",X_t_torch.data.shape)\n",
        "print(\"Testing y size:\",y_t_torch.data.shape)\n",
        "\n",
        "print(\"Validation X size:\",X_tt_torch.data.shape)\n",
        "print(\"Validation y size:\",y_tt_torch.data.shape)\n",
        "\n",
        "\n",
        "training_data = data_utils.TensorDataset(X_tr_torch, y_tr_torch)\n",
        "validation_data = data_utils.TensorDataset(X_t_torch, y_t_torch)\n",
        "testing_data = data_utils.TensorDataset(X_tt_torch, y_tt_torch)\n",
        "\n",
        "training_loader = torch.utils.data.DataLoader(dataset=training_data, batch_size=128, \n",
        "                                              shuffle=True)\n",
        "validation_loader = torch.utils.data.DataLoader(dataset=validation_data, batch_size=128, \n",
        "                                                shuffle=False)\n",
        "testing_loader = torch.utils.data.DataLoader(dataset=testing_data, batch_size=128, \n",
        "                                                shuffle=False)"
      ],
      "execution_count": 86,
      "outputs": [
        {
          "output_type": "stream",
          "text": [
            "Training X size: torch.Size([800000, 6])\n",
            "Training y size: torch.Size([800000, 2])\n",
            "Testing X size: torch.Size([100000, 6])\n",
            "Testing y size: torch.Size([100000, 2])\n",
            "Validation X size: torch.Size([100000, 6])\n",
            "Validation y size: torch.Size([100000, 2])\n"
          ],
          "name": "stdout"
        }
      ]
    },
    {
      "cell_type": "code",
      "metadata": {
        "id": "Ae2lKUgCJP1-",
        "colab_type": "code",
        "colab": {}
      },
      "source": [
        "class FNN(nn.Module):\n",
        "    def __init__(self, D_in, H1, H2, H3, D_out):\n",
        "        super().__init__()\n",
        "        self.linear1 = nn.Linear(D_in, H1)\n",
        "        #self.dropout1 = nn.Dropout(0.5)\n",
        "        self.linear2 = nn.Linear(H1, H2)\n",
        "        self.linear3 = nn.Linear(H2, H3)\n",
        "        #self.dropout2 = nn.Dropout(0.5)\n",
        "        self.linear4 = nn.Linear(H3, D_out)\n",
        "    \n",
        "    def forward(self, x):\n",
        "        x = F.relu(self.linear1(x))\n",
        "        #x = self.dropout1(x)\n",
        "        x = F.relu(self.linear2(x))\n",
        "        x = F.relu(self.linear3(x))\n",
        "        #x = self.dropout2(x)\n",
        "        x = self.linear4(x)\n",
        "        return x\n",
        "device=torch.device('cuda:0')\n",
        "device\n",
        "\n",
        "model = FNN(6, 128, 128, 128, 2)\n",
        "model\n",
        "model.to(device)\n",
        "model\n",
        "criterion = nn.MSELoss()\n",
        "optimizer = torch.optim.Adamax(model.parameters(), lr=0.001, weight_decay=0.01)\n",
        "running_loss_history = []\n",
        "running_corrects_history = []\n",
        "\n",
        "val_running_loss_history = []\n",
        "val_running_corrects_history = []"
      ],
      "execution_count": 0,
      "outputs": []
    },
    {
      "cell_type": "code",
      "metadata": {
        "id": "aY0KzooY6AtC",
        "colab_type": "code",
        "colab": {}
      },
      "source": [
        "import time\n",
        "start_time = time.time()\n",
        "\n"
      ],
      "execution_count": 0,
      "outputs": []
    },
    {
      "cell_type": "code",
      "metadata": {
        "id": "PlVBgt7qGPgL",
        "colab_type": "code",
        "colab": {}
      },
      "source": [
        "epochs=100\n",
        "device=torch.device('cuda:0')"
      ],
      "execution_count": 0,
      "outputs": []
    },
    {
      "cell_type": "code",
      "metadata": {
        "id": "cOQQBS3dJD80",
        "colab_type": "code",
        "outputId": "3c3e593b-e45a-4820-a92e-d8da3d2b6d83",
        "colab": {
          "base_uri": "https://localhost:8080/",
          "height": 1000
        }
      },
      "source": [
        "for e in range(epochs):\n",
        "    running_loss = 0.0\n",
        "    val_running_loss = 0.0    \n",
        "    for inputs, labels in training_loader:\n",
        "        inputs = inputs.float()\n",
        "        labels = labels.float()\n",
        "        inputs=inputs.to(device)\n",
        "        labels=labels.to(device)\n",
        "        outputs = model(inputs)\n",
        "        \n",
        "        loss = criterion(outputs, labels)\n",
        "        \n",
        "        optimizer.zero_grad()\n",
        "        loss.backward()\n",
        "        \n",
        "        optimizer.step()\n",
        "        running_loss += loss.item()\n",
        "        \n",
        "    else:\n",
        "        with torch.no_grad():\n",
        "            for val_inputs, val_labels in validation_loader:\n",
        "                val_inputs = val_inputs.float()\n",
        "                val_labels = val_labels.float()\n",
        "                val_inputs=val_inputs.to(device)\n",
        "                val_labels=val_labels.to(device)\n",
        "                val_outputs = model(val_inputs)\n",
        "                val_loss = criterion(val_outputs, val_labels)\n",
        "                val_running_loss += val_loss.item()\n",
        "\n",
        "            \n",
        "        epoch_loss = running_loss/len(training_loader.dataset)\n",
        "        val_epoch_loss = val_running_loss/len(validation_loader.dataset)\n",
        "        \n",
        "        running_loss_history.append(epoch_loss)\n",
        "        val_running_loss_history.append(val_epoch_loss)\n",
        "        if e % 2 == 0:\n",
        "            print(\"Epoch:\", e+1)\n",
        "            print(\"Training loss {:.4f}\".format(epoch_loss))\n",
        "            print(\"Validation loss {:.4f}\".format(val_epoch_loss))"
      ],
      "execution_count": 90,
      "outputs": [
        {
          "output_type": "stream",
          "text": [
            "Epoch: 1\n",
            "Training loss 0.0284\n",
            "Validation loss 0.0225\n",
            "Epoch: 3\n",
            "Training loss 0.0185\n",
            "Validation loss 0.0182\n",
            "Epoch: 5\n",
            "Training loss 0.0175\n",
            "Validation loss 0.0172\n",
            "Epoch: 7\n",
            "Training loss 0.0164\n",
            "Validation loss 0.0163\n",
            "Epoch: 9\n",
            "Training loss 0.0159\n",
            "Validation loss 0.0159\n",
            "Epoch: 11\n",
            "Training loss 0.0156\n",
            "Validation loss 0.0160\n",
            "Epoch: 13\n",
            "Training loss 0.0154\n",
            "Validation loss 0.0153\n",
            "Epoch: 15\n",
            "Training loss 0.0152\n",
            "Validation loss 0.0149\n",
            "Epoch: 17\n",
            "Training loss 0.0150\n",
            "Validation loss 0.0147\n",
            "Epoch: 19\n",
            "Training loss 0.0148\n",
            "Validation loss 0.0150\n",
            "Epoch: 21\n",
            "Training loss 0.0146\n",
            "Validation loss 0.0148\n",
            "Epoch: 23\n",
            "Training loss 0.0144\n",
            "Validation loss 0.0143\n",
            "Epoch: 25\n",
            "Training loss 0.0139\n",
            "Validation loss 0.0143\n",
            "Epoch: 27\n",
            "Training loss 0.0134\n",
            "Validation loss 0.0134\n",
            "Epoch: 29\n",
            "Training loss 0.0132\n",
            "Validation loss 0.0130\n",
            "Epoch: 31\n",
            "Training loss 0.0130\n",
            "Validation loss 0.0129\n",
            "Epoch: 33\n",
            "Training loss 0.0128\n",
            "Validation loss 0.0129\n",
            "Epoch: 35\n",
            "Training loss 0.0127\n",
            "Validation loss 0.0130\n",
            "Epoch: 37\n",
            "Training loss 0.0126\n",
            "Validation loss 0.0126\n",
            "Epoch: 39\n",
            "Training loss 0.0125\n",
            "Validation loss 0.0125\n",
            "Epoch: 41\n",
            "Training loss 0.0123\n",
            "Validation loss 0.0123\n",
            "Epoch: 43\n",
            "Training loss 0.0120\n",
            "Validation loss 0.0118\n",
            "Epoch: 45\n",
            "Training loss 0.0113\n",
            "Validation loss 0.0114\n",
            "Epoch: 47\n",
            "Training loss 0.0107\n",
            "Validation loss 0.0114\n",
            "Epoch: 49\n",
            "Training loss 0.0105\n",
            "Validation loss 0.0106\n",
            "Epoch: 51\n",
            "Training loss 0.0104\n",
            "Validation loss 0.0104\n",
            "Epoch: 53\n",
            "Training loss 0.0103\n",
            "Validation loss 0.0102\n",
            "Epoch: 55\n",
            "Training loss 0.0102\n",
            "Validation loss 0.0105\n",
            "Epoch: 57\n",
            "Training loss 0.0101\n",
            "Validation loss 0.0102\n",
            "Epoch: 59\n",
            "Training loss 0.0100\n",
            "Validation loss 0.0100\n",
            "Epoch: 61\n",
            "Training loss 0.0100\n",
            "Validation loss 0.0104\n",
            "Epoch: 63\n",
            "Training loss 0.0099\n",
            "Validation loss 0.0097\n",
            "Epoch: 65\n",
            "Training loss 0.0098\n",
            "Validation loss 0.0096\n",
            "Epoch: 67\n",
            "Training loss 0.0097\n",
            "Validation loss 0.0097\n",
            "Epoch: 69\n",
            "Training loss 0.0097\n",
            "Validation loss 0.0096\n",
            "Epoch: 71\n",
            "Training loss 0.0096\n",
            "Validation loss 0.0097\n",
            "Epoch: 73\n",
            "Training loss 0.0096\n",
            "Validation loss 0.0095\n",
            "Epoch: 75\n",
            "Training loss 0.0095\n",
            "Validation loss 0.0098\n",
            "Epoch: 77\n",
            "Training loss 0.0095\n",
            "Validation loss 0.0095\n",
            "Epoch: 79\n",
            "Training loss 0.0095\n",
            "Validation loss 0.0093\n",
            "Epoch: 81\n",
            "Training loss 0.0094\n",
            "Validation loss 0.0095\n",
            "Epoch: 83\n",
            "Training loss 0.0094\n",
            "Validation loss 0.0094\n",
            "Epoch: 85\n",
            "Training loss 0.0094\n",
            "Validation loss 0.0095\n",
            "Epoch: 87\n",
            "Training loss 0.0094\n",
            "Validation loss 0.0098\n",
            "Epoch: 89\n",
            "Training loss 0.0094\n",
            "Validation loss 0.0094\n",
            "Epoch: 91\n",
            "Training loss 0.0094\n",
            "Validation loss 0.0093\n",
            "Epoch: 93\n",
            "Training loss 0.0094\n",
            "Validation loss 0.0094\n",
            "Epoch: 95\n",
            "Training loss 0.0094\n",
            "Validation loss 0.0096\n",
            "Epoch: 97\n",
            "Training loss 0.0094\n",
            "Validation loss 0.0096\n",
            "Epoch: 99\n",
            "Training loss 0.0094\n",
            "Validation loss 0.0095\n"
          ],
          "name": "stdout"
        }
      ]
    },
    {
      "cell_type": "code",
      "metadata": {
        "id": "5wnLw3P46F2M",
        "colab_type": "code",
        "outputId": "92f2354b-4c5c-412a-f5e7-2e8f86483dfa",
        "colab": {
          "base_uri": "https://localhost:8080/",
          "height": 34
        }
      },
      "source": [
        "print(\"--- %s seconds ---\" % (time.time() - start_time))"
      ],
      "execution_count": 91,
      "outputs": [
        {
          "output_type": "stream",
          "text": [
            "--- 3419.397310256958 seconds ---\n"
          ],
          "name": "stdout"
        }
      ]
    },
    {
      "cell_type": "code",
      "metadata": {
        "id": "nnFvZO2ZJU7O",
        "colab_type": "code",
        "outputId": "a7248a46-63b6-452a-98f1-0a7777fb3588",
        "colab": {
          "base_uri": "https://localhost:8080/",
          "height": 392
        }
      },
      "source": [
        "fig, ax = plt.subplots(figsize=(8,6)) # create a new figure with a default 111 subplot\n",
        "ax.plot(running_loss_history, linewidth=2, color='b', label='Training Loss');\n",
        "ax.plot(val_running_loss_history, linewidth=5, color='r', linestyle = ':', label='Validation Loss');\n",
        "ax.grid(linestyle=':', linewidth=1)\n",
        "plt.xlabel('Epoch', fontsize=14)\n",
        "plt.ylabel('Loss', fontsize=18)\n",
        "plt.legend(framealpha=1, frameon=True,loc='upper right', fontsize=14, scatterpoints=1, ncol=1, markerscale=2);\n",
        "torch.save(model.state_dict(), 'model-800.pkl')"
      ],
      "execution_count": 92,
      "outputs": [
        {
          "output_type": "display_data",
          "data": {
            "image/png": "[encoded data removed]",
            "text/plain": [
              "<Figure size 576x432 with 1 Axes>"
            ]
          },
          "metadata": {
            "tags": []
          }
        }
      ]
    },
    {
      "cell_type": "code",
      "metadata": {
        "id": "TrtwMzgkKtih",
        "colab_type": "code",
        "colab": {}
      },
      "source": [
        "def simulate(xs0,sys,model):\n",
        "    x1=xs0.reshape(1,6)\n",
        "    states0=[]\n",
        "    inputs0=[]\n",
        "    Ts=0.01\n",
        "    \n",
        "    for ind in range(400):\n",
        "        x=x1\n",
        "        x = Variable(torch.from_numpy(x))\n",
        "        x=x.float()\n",
        "        y=model(x)\n",
        "        u=y.reshape(2,1)\n",
        "        x=x.reshape(6,1)\n",
        "        k1 = model_dynamics(x,u,sys) \n",
        "        k1 = model_dynamics(x,u,sys) \n",
        "        k2 = model_dynamics(x + (Ts/2)*k1,u,sys)         \n",
        "        k3 = model_dynamics(x + (Ts/2)*k2,u,sys)        \n",
        "        k4 = model_dynamics(x+Ts*k3,u,sys)        \n",
        "        x1 = x + Ts*(k1 + 2*k2 + 2*k3 + k4)/6\n",
        "        x1=x1.reshape(1,6)\n",
        "        x1=np.array(x1)\n",
        "        states0.append(x)\n",
        "        inputs0.append(u)\n",
        "    return states0, inputs0"
      ],
      "execution_count": 0,
      "outputs": []
    },
    {
      "cell_type": "code",
      "metadata": {
        "id": "sFlLTrGxoQn1",
        "colab_type": "code",
        "colab": {}
      },
      "source": [
        "import random"
      ],
      "execution_count": 0,
      "outputs": []
    },
    {
      "cell_type": "code",
      "metadata": {
        "id": "3mkfBPPhoU90",
        "colab_type": "code",
        "colab": {}
      },
      "source": [
        "num=random.randint(0,100)\n",
        "xs=nsarr[num,0,:]\n",
        "statesone=nsarr[num,:,:]\n",
        "controlsone=noarr[num,:,:]"
      ],
      "execution_count": 0,
      "outputs": []
    },
    {
      "cell_type": "code",
      "metadata": {
        "id": "rJvg4-47yoJQ",
        "colab_type": "code",
        "colab": {
          "base_uri": "https://localhost:8080/",
          "height": 118
        },
        "outputId": "f3cb97a3-4c76-4d01-916b-813234b05ded"
      },
      "source": [
        "model"
      ],
      "execution_count": 100,
      "outputs": [
        {
          "output_type": "execute_result",
          "data": {
            "text/plain": [
              "FNN(\n",
              "  (linear1): Linear(in_features=6, out_features=128, bias=True)\n",
              "  (linear2): Linear(in_features=128, out_features=128, bias=True)\n",
              "  (linear3): Linear(in_features=128, out_features=128, bias=True)\n",
              "  (linear4): Linear(in_features=128, out_features=2, bias=True)\n",
              ")"
            ]
          },
          "metadata": {
            "tags": []
          },
          "execution_count": 100
        }
      ]
    },
    {
      "cell_type": "code",
      "metadata": {
        "id": "dEURdpgHOc65",
        "colab_type": "code",
        "colab": {}
      },
      "source": [
        "import math"
      ],
      "execution_count": 0,
      "outputs": []
    },
    {
      "cell_type": "code",
      "metadata": {
        "id": "Lf6xo9CK1CGG",
        "colab_type": "code",
        "colab": {}
      },
      "source": [
        "state0,inputs0=simulate(xs, sys,model.cpu())\n",
        "state1=[t.numpy() for t in state0]\n",
        "inputs0=[t.cpu().detach().numpy() for t in inputs0]\n",
        "states_0=np.array(state1)\n",
        "inputs_0=np.array(inputs0)\n",
        "states_0.reshape(400,6);\n",
        "inputs_0.reshape(400,2);\n",
        "\n"
      ],
      "execution_count": 0,
      "outputs": []
    },
    {
      "cell_type": "code",
      "metadata": {
        "id": "zCEIa32Wnx2T",
        "colab_type": "code",
        "colab": {}
      },
      "source": [
        "import matplotlib.pyplot as plt\n"
      ],
      "execution_count": 0,
      "outputs": []
    },
    {
      "cell_type": "code",
      "metadata": {
        "id": "XDNw-hU4-lAm",
        "colab_type": "code",
        "outputId": "78110356-4ed5-4616-96bf-926d411763fa",
        "colab": {
          "base_uri": "https://localhost:8080/",
          "height": 282
        }
      },
      "source": [
        "plt.subplot(611)\n",
        "plt.plot(range(400),states_0[:,0],'k-')\n",
        "plt.plot(range(401),statesone[:,0],'r-')\n",
        "plt.subplot(612)\n",
        "plt.plot(range(400),states_0[:,1],'k-')\n",
        "plt.plot(range(401),statesone[:,1],'r-')\n",
        "plt.subplot(613)\n",
        "plt.plot(range(400),states_0[:,2],'k-') \n",
        "plt.plot(range(401),statesone[:,2],'r-')\n",
        "plt.subplot(614)\n",
        "plt.plot(range(400),states_0[:,3],'k-')\n",
        "plt.plot(range(401),statesone[:,3],'r-')\n",
        "plt.subplot(615)\n",
        "plt.plot(range(400),states_0[:,4],'k-')\n",
        "plt.plot(range(401),statesone[:,4],'r-')\n",
        "plt.subplot(616)\n",
        "plt.plot(range(400), states_0[:,5],'k-')\n",
        "plt.plot(range(401),statesone[:,5],'r-')\n",
        "plt.xlabel('time, ms')\n",
        "plt.show()"
      ],
      "execution_count": 104,
      "outputs": [
        {
          "output_type": "display_data",
          "data": {
            "image/png": "[encoded data removed]",
            "text/plain": [
              "<Figure size 432x288 with 6 Axes>"
            ]
          },
          "metadata": {
            "tags": []
          }
        }
      ]
    },
    {
      "cell_type": "code",
      "metadata": {
        "id": "81AFQoQEnMST",
        "colab_type": "code",
        "outputId": "db5e4224-8c6a-456b-8f20-eddbcbc386f6",
        "colab": {
          "base_uri": "https://localhost:8080/",
          "height": 282
        }
      },
      "source": [
        "plt.subplot(211)\n",
        "plt.plot(range(400),inputs_0[:,0],'k-')\n",
        "plt.plot(range(401),controlsone[:,0],'r-')\n",
        "plt.subplot(212)\n",
        "plt.plot(range(400), inputs_0[:,1],'k-') \n",
        "plt.plot(range(401),controlsone[:,1])\n",
        "plt.xlabel('time, ms')\n",
        "plt.show()"
      ],
      "execution_count": 105,
      "outputs": [
        {
          "output_type": "display_data",
          "data": {
            "image/png": "[encoded data removed]",
            "text/plain": [
              "<Figure size 432x288 with 2 Axes>"
            ]
          },
          "metadata": {
            "tags": []
          }
        }
      ]
    },
    {
      "cell_type": "code",
      "metadata": {
        "id": "-HQrJ64RfKP3",
        "colab_type": "code",
        "colab": {}
      },
      "source": [
        "Q=np.eye(6)\n",
        "R=np.eye(2)"
      ],
      "execution_count": 0,
      "outputs": []
    },
    {
      "cell_type": "code",
      "metadata": {
        "id": "XwaAfCz4UTCY",
        "colab_type": "code",
        "colab": {}
      },
      "source": [
        "import math"
      ],
      "execution_count": 0,
      "outputs": []
    },
    {
      "cell_type": "code",
      "metadata": {
        "id": "PPvkcFp6fEBn",
        "colab_type": "code",
        "colab": {}
      },
      "source": [
        "Q[0,0]=50000\n",
        "Q[1,1]=50000\n",
        "Q[2,2]=500\n",
        "Q[3,3]=100\n",
        "Q[4,4]=0.01\n",
        "Q[5,5]=0.01\n",
        "R[0,0]=10**(-5)\n",
        "R[1,1]=10**(-5)"
      ],
      "execution_count": 0,
      "outputs": []
    },
    {
      "cell_type": "code",
      "metadata": {
        "id": "LoqJMUAgfBfD",
        "colab_type": "code",
        "colab": {}
      },
      "source": [
        "sum=[]\n",
        "for j in range(100):\n",
        "    cost=0\n",
        "    for i in range(400):\n",
        "        one=nsarr[j,i,:].reshape(1,6)\n",
        "        two=noarr[j,i,:].reshape(1,2)\n",
        "        cost=cost+np.matmul(one,np.matmul(Q,np.transpose(one)))+np.matmul(two,np.matmul(R,np.transpose(two)))\n",
        "    sum.append(cost)"
      ],
      "execution_count": 0,
      "outputs": []
    },
    {
      "cell_type": "code",
      "metadata": {
        "id": "2Y3qE2aIimm4",
        "colab_type": "code",
        "colab": {}
      },
      "source": [
        "sum_NN=[]\n",
        "for j in range(100):\n",
        "    cost=0\n",
        "    xs00=nsarr[j,0,:]\n",
        "    xs=xs00.reshape(1,6)\n",
        "    xs=np.array(xs)\n",
        "    state0,inputs0=simulate(xs, sys,model)\n",
        "    state1=[t.numpy() for t in state0]\n",
        "    inputs0=[t.cpu().detach().numpy() for t in inputs0]\n",
        "    states0=np.array(state1)\n",
        "    inputs0=np.array(inputs0)\n",
        "    states0.reshape(400,6)\n",
        "    inputs0.reshape(400,2)\n",
        "    for i in range(400):\n",
        "        one=states0[i,:].reshape(1,6)\n",
        "        two=inputs0[i,:].reshape(1,2)\n",
        "        cost=cost+np.matmul(one,np.matmul(Q,np.transpose(one)))+np.matmul(two,np.matmul(R,np.transpose(two)))\n",
        "    sum_NN.append(cost)"
      ],
      "execution_count": 0,
      "outputs": []
    },
    {
      "cell_type": "code",
      "metadata": {
        "id": "JL2Lfbbzikpj",
        "colab_type": "code",
        "colab": {
          "base_uri": "https://localhost:8080/",
          "height": 34
        },
        "outputId": "c44fd0a0-125a-4ec2-feca-a4ce35d878a5"
      },
      "source": [
        "sum1=np.array(sum_NN)\n",
        "sum2=np.array(sum)\n",
        "sum1[num], sum2[num]"
      ],
      "execution_count": 111,
      "outputs": [
        {
          "output_type": "execute_result",
          "data": {
            "text/plain": [
              "(array([[310129.26216085]]), array([[267564.416046]]))"
            ]
          },
          "metadata": {
            "tags": []
          },
          "execution_count": 111
        }
      ]
    }
  ]
}